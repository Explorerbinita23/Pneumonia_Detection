{
  "cells": [
    {
      "cell_type": "code",
      "execution_count": null,
      "metadata": {
        "id": "mWK87olLKewf"
      },
      "outputs": [],
      "source": [
        "!mkdir -p ~/.kaggle\n",
        "!cp kaggle.json ~/.kaggle/\n"
      ]
    },
    {
      "cell_type": "code",
      "execution_count": null,
      "metadata": {
        "id": "CZ5QiRIKm5AS"
      },
      "outputs": [],
      "source": [
        "!kaggle datasets download paultimothymooney/chest-xray-pneumonia"
      ]
    },
    {
      "cell_type": "code",
      "execution_count": null,
      "metadata": {
        "id": "F8RZF9cEm72S"
      },
      "outputs": [],
      "source": [
        "import zipfile\n",
        "zip_ref = zipfile.ZipFile('/content/chest-xray-pneumonia.zip', 'r')\n",
        "zip_ref.extractall('/content')\n",
        "zip_ref.close()"
      ]
    },
    {
      "cell_type": "code",
      "execution_count": null,
      "metadata": {
        "id": "xrMeNW1enAPL"
      },
      "outputs": [],
      "source": [
        "# Define paths\n",
        "train_path = \"/content/chest_xray/train\"\n",
        "val_path = \"/content/chest_xray/val\"\n",
        "test_path = \"/content/chest_xray/test\""
      ]
    },
    {
      "cell_type": "markdown",
      "metadata": {
        "id": "ubbWItpAmf_s"
      },
      "source": [
        "Reproducibility is a great concern when doing deep learning. There was a good discussion on KaggleNoobs slack regarding this. We will set a numer of things in order to make sure that the results are almost reproducible(if not fully)."
      ]
    },
    {
      "cell_type": "code",
      "execution_count": null,
      "metadata": {
        "id": "FlO_j2tdt7UV"
      },
      "outputs": [],
      "source": [
        "import tensorflow as tf\n",
        "import numpy as np\n",
        "import random\n",
        "import os\n",
        "\n",
        "seed = 42  # Set a fixed seed\n",
        "os.environ['PYTHONHASHSEED'] = str(seed)\n",
        "random.seed(seed)\n",
        "np.random.seed(seed)\n",
        "tf.random.set_seed(seed)\n"
      ]
    },
    {
      "cell_type": "code",
      "execution_count": null,
      "metadata": {
        "id": "hJhZUjkRnXYP"
      },
      "outputs": [],
      "source": [
        "import os\n",
        "import matplotlib.pyplot as plt\n",
        "\n",
        "# Function to count images in each category\n",
        "def count_images(directory):\n",
        "    return {category: len(os.listdir(os.path.join(directory, category))) for category in [\"NORMAL\", \"PNEUMONIA\"]}\n",
        "\n",
        "# Get image counts\n",
        "train_counts = count_images(\"/content/chest_xray/train\")\n",
        "val_counts = count_images(\"/content/chest_xray/val\")\n",
        "test_counts = count_images(\"/content/chest_xray/test\")\n",
        "\n",
        "# Plot distribution\n",
        "fig, ax = plt.subplots(1, 3, figsize=(15, 5))\n",
        "for i, (dataset, counts) in enumerate(zip([\"Training\", \"Validation\", \"Test\"], [train_counts, val_counts, test_counts])):\n",
        "    ax[i].bar(counts.keys(), counts.values(), color=['blue', 'red'])\n",
        "    ax[i].set_title(f\"{dataset} Set Distribution\")\n",
        "\n",
        "plt.show()"
      ]
    },
    {
      "cell_type": "markdown",
      "metadata": {
        "id": "mciN7fcMmDv4"
      },
      "source": [
        "As you can see the data is highly imbalanced. We have almost with thrice pneumonia cases here as compared to the normal cases. This situation is very normal when it comes to medical data. The data will always be imbalanced. either there will be too many normal cases or there will be too many cases with the disease.\n",
        "\n",
        "Let's look at how a normal case is different from that of a pneumonia case. We will look at somes samples from our training data itself."
      ]
    },
    {
      "cell_type": "code",
      "execution_count": null,
      "metadata": {
        "id": "qQnXK7Stnbee"
      },
      "outputs": [],
      "source": [
        "import cv2\n",
        "\n",
        "# Function to plot images\n",
        "def plot_images(category, dataset_path, num_images=5):\n",
        "    folder_path = os.path.join(dataset_path, category)\n",
        "    image_files = os.listdir(folder_path)[:num_images]  # Select first few images\n",
        "\n",
        "    fig, axes = plt.subplots(1, num_images, figsize=(15, 5))\n",
        "    for i, img_file in enumerate(image_files):\n",
        "        img = cv2.imread(os.path.join(folder_path, img_file), cv2.IMREAD_GRAYSCALE)  # Read image\n",
        "        axes[i].imshow(img, cmap='gray')\n",
        "        axes[i].set_title(category)\n",
        "        axes[i].axis('off')\n",
        "\n",
        "    plt.show()\n",
        "\n",
        "# Show images from both categories\n",
        "plot_images(\"NORMAL\", train_path)\n",
        "plot_images(\"PNEUMONIA\", train_path)"
      ]
    },
    {
      "cell_type": "markdown",
      "metadata": {
        "id": "IdQH5wLnllg-"
      },
      "source": [
        "If you look carefully, then there are some cases where you won't be able to differentiate between a normal case and a pneumonia case with the naked eye. There is one case in the above plot, at least for me ,which is too much confusing. If we can build a robust classifier, it would be a great assist to the doctor too.\n",
        "\n"
      ]
    },
    {
      "cell_type": "code",
      "execution_count": null,
      "metadata": {
        "id": "JK1Z8iZenfAL"
      },
      "outputs": [],
      "source": [
        "from tensorflow.keras.preprocessing.image import ImageDataGenerator\n",
        "\n",
        "img_size = 224\n",
        "batch_size = 32\n",
        "seed=42"
      ]
    },
    {
      "cell_type": "markdown",
      "metadata": {
        "id": "1aa6Vn1_NHgw"
      },
      "source": [
        "# Augmentation\n",
        "Data augmentation is a powerful technique which helps in almost every case for improving the robustness of a model. But augmentation can be much more helpful where the dataset is imbalanced. You can generate different samples of undersampled class in order to try to balance the overall distribution."
      ]
    },
    {
      "cell_type": "code",
      "execution_count": null,
      "metadata": {
        "id": "al-AF-FSnifV"
      },
      "outputs": [],
      "source": [
        "train_datagen = ImageDataGenerator(\n",
        "    rescale=1./255,\n",
        "    rotation_range=15,  # Rotate images randomly\n",
        "    width_shift_range=0.1,\n",
        "    height_shift_range=0.1,\n",
        "    shear_range=0.1,\n",
        "    zoom_range=0.2,\n",
        "    horizontal_flip=True,\n",
        "    fill_mode=\"nearest\",\n",
        "    validation_split=0.2\n",
        ")\n",
        "# Training Generator\n",
        "train_generator = train_datagen.flow_from_directory(\n",
        "    directory=train_path,\n",
        "    target_size=(img_size, img_size),\n",
        "    batch_size=batch_size,\n",
        "    class_mode='binary',\n",
        "    subset='training',\n",
        "    shuffle=True,\n",
        "    seed=seed\n",
        ")\n",
        "# Validation Data\n",
        "val_datagen = ImageDataGenerator(rescale=1./255)\n",
        "val_generator = train_datagen.flow_from_directory(\n",
        "    directory=test_path,  # Still using train (with subset)\n",
        "    target_size=(img_size, img_size),\n",
        "    batch_size=batch_size,\n",
        "    class_mode='binary',\n",
        "    subset='validation',\n",
        "    shuffle=False,\n",
        "    seed=seed\n",
        ")\n",
        "\n",
        "# Test Data (No subset needed)\n",
        "test_datagen = ImageDataGenerator(rescale=1./255)\n",
        "test_generator = test_datagen.flow_from_directory(\n",
        "    directory=test_path,  # Use test folder\n",
        "    target_size=(img_size, img_size),\n",
        "    batch_size=batch_size,\n",
        "    class_mode='binary',\n",
        "    shuffle=False , # No need to shuffle test data\n",
        "    seed=seed\n",
        ")\n",
        "\n",
        "# ✅ Check Class Labels\n",
        "print(\"Class labels:\", train_generator.class_indices)"
      ]
    },
    {
      "cell_type": "markdown",
      "metadata": {
        "id": "DU_aMCR0ipGY"
      },
      "source": [
        "# Model Explanation\n",
        "This is the most exciting part! If you look at other solutions for this dataset, most people are using transfer learning by fine-tuning large models. While transfer learning is useful, it's important to use it wisely. Instead of completely relying on a pre-trained model, we’ll combine transfer learning with training some parts of our model from scratch.\n",
        "\n",
        "Before jumping into the code, here are some best practices for training deep learning models when you have limited data:\n",
        "\n",
        "1. Keep the architecture simple. A complex model isn’t always better.\n",
        "\n",
        "2. Use a pre-trained model for the first few layers. These layers learn basic features like colors, edges, and textures, so instead of training them\n",
        "from scratch, we’ll fine-tune them.\n",
        "\n",
        "3. Use efficient layers. Instead of regular convolutional layers, we can use Depthwise Separable Convolutions, which reduce the number of parameters while capturing important details.\n",
        "\n",
        "4. Apply Batch Normalization. This helps stabilize training, especially for deeper networks.\n",
        "\n",
        "5. Use dense layers wisely. Start with a higher learning rate to find a good network depth and neuron count, then fine-tune with a lower learning rate.\n",
        "\n",
        "6. Gradually decrease the learning rate. Once we get a good structure, we lower the learning rate to refine the model.\n",
        "\n",
        "Now, let's go step by step through the model implementation:\n",
        "\n",
        " * We use VGG19, a well-known pre-trained model, and remove its top layers.\n",
        " * We freeze most of the layers so they don’t get updated during training, except for the last five, which we fine-tune later.\n",
        " * We add a Global Average Pooling layer to reduce the number of parameters while keeping important features.\n",
        " * Then, we add dense layers with Batch Normalization and Dropout to prevent overfitting.\n",
        " * We compile the model using the Adam   To improve training, we use early stopping (to stop if performance worsens), learning rate reduction (to gradually lower the learning rate), and model checkpointing (to save the best model).\n",
        " * Finally, we train the model and evaluate its accuracy.\n",
        "\n",
        "This approach helps us balance efficiency and performance by using pre-trained knowledge while customizing the model for our dataset."
      ]
    },
    {
      "cell_type": "code",
      "execution_count": null,
      "metadata": {
        "colab": {
          "background_save": true,
          "base_uri": "https://localhost:8080/"
        },
        "id": "mZn5mm22nmgT",
        "outputId": "90b98a1f-5285-47b6-b188-a6283d4baa53"
      },
      "outputs": [
        {
          "name": "stdout",
          "output_type": "stream",
          "text": [
            "Downloading data from https://storage.googleapis.com/tensorflow/keras-applications/vgg19/vgg19_weights_tf_dim_ordering_tf_kernels_notop.h5\n",
            "\u001b[1m80134624/80134624\u001b[0m \u001b[32m━━━━━━━━━━━━━━━━━━━━\u001b[0m\u001b[37m\u001b[0m \u001b[1m0s\u001b[0m 0us/step\n"
          ]
        },
        {
          "name": "stderr",
          "output_type": "stream",
          "text": [
            "/usr/local/lib/python3.11/dist-packages/keras/src/trainers/data_adapters/py_dataset_adapter.py:121: UserWarning: Your `PyDataset` class should call `super().__init__(**kwargs)` in its constructor. `**kwargs` can include `workers`, `use_multiprocessing`, `max_queue_size`. Do not pass these arguments to `fit()`, as they will be ignored.\n",
            "  self._warn_if_super_not_called()\n"
          ]
        },
        {
          "name": "stdout",
          "output_type": "stream",
          "text": [
            "Epoch 1/10\n",
            "\u001b[1m131/131\u001b[0m \u001b[32m━━━━━━━━━━━━━━━━━━━━\u001b[0m\u001b[37m\u001b[0m \u001b[1m0s\u001b[0m 660ms/step - accuracy: 0.6978 - loss: 3.7653\n",
            "Epoch 1: val_accuracy improved from -inf to 0.63710, saving model to best_model.keras\n",
            "\u001b[1m131/131\u001b[0m \u001b[32m━━━━━━━━━━━━━━━━━━━━\u001b[0m\u001b[37m\u001b[0m \u001b[1m117s\u001b[0m 782ms/step - accuracy: 0.6983 - loss: 3.7628 - val_accuracy: 0.6371 - val_loss: 3.0434 - learning_rate: 1.0000e-04\n",
            "Epoch 2/10\n",
            "\u001b[1m131/131\u001b[0m \u001b[32m━━━━━━━━━━━━━━━━━━━━\u001b[0m\u001b[37m\u001b[0m \u001b[1m0s\u001b[0m 612ms/step - accuracy: 0.8522 - loss: 2.6895\n",
            "Epoch 2: val_accuracy improved from 0.63710 to 0.72581, saving model to best_model.keras\n",
            "\u001b[1m131/131\u001b[0m \u001b[32m━━━━━━━━━━━━━━━━━━━━\u001b[0m\u001b[37m\u001b[0m \u001b[1m84s\u001b[0m 639ms/step - accuracy: 0.8523 - loss: 2.6880 - val_accuracy: 0.7258 - val_loss: 2.2969 - learning_rate: 1.0000e-04\n",
            "Epoch 3/10\n",
            "\u001b[1m131/131\u001b[0m \u001b[32m━━━━━━━━━━━━━━━━━━━━\u001b[0m\u001b[37m\u001b[0m \u001b[1m0s\u001b[0m 606ms/step - accuracy: 0.8855 - loss: 2.0137\n",
            "Epoch 3: val_accuracy improved from 0.72581 to 0.79032, saving model to best_model.keras\n",
            "\u001b[1m131/131\u001b[0m \u001b[32m━━━━━━━━━━━━━━━━━━━━\u001b[0m\u001b[37m\u001b[0m \u001b[1m141s\u001b[0m 633ms/step - accuracy: 0.8855 - loss: 2.0127 - val_accuracy: 0.7903 - val_loss: 1.7446 - learning_rate: 1.0000e-04\n",
            "Epoch 4/10\n",
            "\u001b[1m131/131\u001b[0m \u001b[32m━━━━━━━━━━━━━━━━━━━━\u001b[0m\u001b[37m\u001b[0m \u001b[1m0s\u001b[0m 602ms/step - accuracy: 0.9061 - loss: 1.5354\n",
            "Epoch 4: val_accuracy improved from 0.79032 to 0.89516, saving model to best_model.keras\n",
            "\u001b[1m131/131\u001b[0m \u001b[32m━━━━━━━━━━━━━━━━━━━━\u001b[0m\u001b[37m\u001b[0m \u001b[1m83s\u001b[0m 629ms/step - accuracy: 0.9061 - loss: 1.5347 - val_accuracy: 0.8952 - val_loss: 1.2937 - learning_rate: 1.0000e-04\n",
            "Epoch 5/10\n",
            "\u001b[1m131/131\u001b[0m \u001b[32m━━━━━━━━━━━━━━━━━━━━\u001b[0m\u001b[37m\u001b[0m \u001b[1m0s\u001b[0m 610ms/step - accuracy: 0.9111 - loss: 1.2264\n",
            "Epoch 5: val_accuracy did not improve from 0.89516\n",
            "\u001b[1m131/131\u001b[0m \u001b[32m━━━━━━━━━━━━━━━━━━━━\u001b[0m\u001b[37m\u001b[0m \u001b[1m83s\u001b[0m 633ms/step - accuracy: 0.9112 - loss: 1.2259 - val_accuracy: 0.8387 - val_loss: 1.1760 - learning_rate: 1.0000e-04\n",
            "Epoch 6/10\n",
            "\u001b[1m131/131\u001b[0m \u001b[32m━━━━━━━━━━━━━━━━━━━━\u001b[0m\u001b[37m\u001b[0m \u001b[1m0s\u001b[0m 605ms/step - accuracy: 0.9165 - loss: 1.0061\n",
            "Epoch 6: val_accuracy improved from 0.89516 to 0.93548, saving model to best_model.keras\n",
            "\u001b[1m131/131\u001b[0m \u001b[32m━━━━━━━━━━━━━━━━━━━━\u001b[0m\u001b[37m\u001b[0m \u001b[1m83s\u001b[0m 630ms/step - accuracy: 0.9165 - loss: 1.0057 - val_accuracy: 0.9355 - val_loss: 0.8382 - learning_rate: 1.0000e-04\n",
            "Epoch 7/10\n",
            "\u001b[1m131/131\u001b[0m \u001b[32m━━━━━━━━━━━━━━━━━━━━\u001b[0m\u001b[37m\u001b[0m \u001b[1m0s\u001b[0m 610ms/step - accuracy: 0.9194 - loss: 0.8536\n",
            "Epoch 7: val_accuracy did not improve from 0.93548\n",
            "\u001b[1m131/131\u001b[0m \u001b[32m━━━━━━━━━━━━━━━━━━━━\u001b[0m\u001b[37m\u001b[0m \u001b[1m142s\u001b[0m 629ms/step - accuracy: 0.9194 - loss: 0.8534 - val_accuracy: 0.9113 - val_loss: 0.8090 - learning_rate: 1.0000e-04\n",
            "Epoch 8/10\n",
            "\u001b[1m131/131\u001b[0m \u001b[32m━━━━━━━━━━━━━━━━━━━━\u001b[0m\u001b[37m\u001b[0m \u001b[1m0s\u001b[0m 614ms/step - accuracy: 0.9228 - loss: 0.7458\n",
            "Epoch 8: val_accuracy improved from 0.93548 to 0.94355, saving model to best_model.keras\n",
            "\u001b[1m131/131\u001b[0m \u001b[32m━━━━━━━━━━━━━━━━━━━━\u001b[0m\u001b[37m\u001b[0m \u001b[1m84s\u001b[0m 637ms/step - accuracy: 0.9228 - loss: 0.7455 - val_accuracy: 0.9435 - val_loss: 0.6490 - learning_rate: 1.0000e-04\n",
            "Epoch 9/10\n",
            "\u001b[1m131/131\u001b[0m \u001b[32m━━━━━━━━━━━━━━━━━━━━\u001b[0m\u001b[37m\u001b[0m \u001b[1m0s\u001b[0m 608ms/step - accuracy: 0.9249 - loss: 0.6615\n",
            "Epoch 9: val_accuracy did not improve from 0.94355\n",
            "\u001b[1m131/131\u001b[0m \u001b[32m━━━━━━━━━━━━━━━━━━━━\u001b[0m\u001b[37m\u001b[0m \u001b[1m83s\u001b[0m 629ms/step - accuracy: 0.9249 - loss: 0.6613 - val_accuracy: 0.9355 - val_loss: 0.5959 - learning_rate: 1.0000e-04\n",
            "Epoch 10/10\n",
            "\u001b[1m131/131\u001b[0m \u001b[32m━━━━━━━━━━━━━━━━━━━━\u001b[0m\u001b[37m\u001b[0m \u001b[1m0s\u001b[0m 603ms/step - accuracy: 0.9286 - loss: 0.5923\n",
            "Epoch 10: val_accuracy improved from 0.94355 to 0.95968, saving model to best_model.keras\n",
            "\u001b[1m131/131\u001b[0m \u001b[32m━━━━━━━━━━━━━━━━━━━━\u001b[0m\u001b[37m\u001b[0m \u001b[1m83s\u001b[0m 631ms/step - accuracy: 0.9286 - loss: 0.5923 - val_accuracy: 0.9597 - val_loss: 0.5186 - learning_rate: 1.0000e-04\n",
            "\u001b[1m20/20\u001b[0m \u001b[32m━━━━━━━━━━━━━━━━━━━━\u001b[0m\u001b[37m\u001b[0m \u001b[1m13s\u001b[0m 637ms/step - accuracy: 0.8849 - loss: 0.6509\n",
            "Test Loss: 0.677146315574646\n"
          ]
        }
      ],
      "source": [
        "\n",
        "import tensorflow as tf\n",
        "from tensorflow.keras.applications import VGG19\n",
        "from tensorflow.keras.models import Sequential\n",
        "from tensorflow.keras.layers import Dense, Dropout, GlobalAveragePooling2D,BatchNormalization\n",
        "from tensorflow.keras.optimizers import Adam\n",
        "from tensorflow.keras.callbacks import EarlyStopping, ReduceLROnPlateau, ModelCheckpoint\n",
        "\n",
        "# ✅ Load Pretrained VGG19\n",
        "base_model = VGG19(weights='imagenet', include_top=False, input_shape=(img_size, img_size, 3))\n",
        "\n",
        "# Freeze most layers, fine-tune last 5 layers later\n",
        "for layer in base_model.layers[-6:]:\n",
        "    layer.trainable = True\n",
        "\n",
        "# ✅ Build Model\n",
        "model = Sequential([\n",
        "    base_model,\n",
        "     GlobalAveragePooling2D(),\n",
        "    Dense(256, activation='relu', kernel_regularizer=tf.keras.regularizers.l2(0.01)),\n",
        "    BatchNormalization(),\n",
        "    Dropout(0.3)\n",
        "    # Fixing the GPU issue by replacing MaxPool\n",
        "    Dense(256, activation='relu', kernel_regularizer=tf.keras.regularizers.l2(0.01)),\n",
        "    BatchNormalization(),\n",
        "    Dropout(0.4),\n",
        "    Dense(1, activation='sigmoid')\n",
        "])\n",
        "\n",
        "# ✅ Compile Model\n",
        "model.compile(\n",
        "    optimizer=Adam(learning_rate=0.0001),\n",
        "    loss='binary_crossentropy',\n",
        "    metrics=['accuracy']\n",
        ")\n",
        "\n",
        "# ✅ Callbacks\n",
        "early_stop = EarlyStopping(monitor='val_loss', patience=5, restore_best_weights=True)\n",
        "reduce_lr = ReduceLROnPlateau(monitor='val_loss', factor=0.2, patience=3, min_lr=1e-7, verbose=1)\n",
        "checkpoint = ModelCheckpoint(\"best_model.keras\", monitor=\"val_accuracy\", save_best_only=True, verbose=1)\n",
        "\n",
        "# ✅ Train Model\n",
        "history = model.fit(\n",
        "    train_generator,\n",
        "    validation_data=val_generator,\n",
        "    epochs=40,\n",
        "    callbacks=[early_stop, reduce_lr, checkpoint],\n",
        "    verbose=1\n",
        ")\n",
        "\n",
        "# ✅ Evaluate Model\n",
        "test_loss, test_accuracy = model.evaluate(test_generator)\n",
        "print(f\"Test Loss: {test_loss}\")"
      ]
    },
    {
      "cell_type": "code",
      "execution_count": null,
      "metadata": {
        "colab": {
          "background_save": true
        },
        "id": "b808yxF0rye1",
        "outputId": "ae8eaf4d-0643-4727-851d-6c2ef0e03dcc"
      },
      "outputs": [
        {
          "name": "stdout",
          "output_type": "stream",
          "text": [
            "Test Accuracy: 88.30 %\n"
          ]
        }
      ],
      "source": [
        "print(f\"Test Accuracy: {test_accuracy * 100:.2f} %\")"
      ]
    },
    {
      "cell_type": "code",
      "execution_count": null,
      "metadata": {
        "colab": {
          "background_save": true
        },
        "id": "zt39w3tSqr-1",
        "outputId": "8aaf660e-c218-41c8-ef03-b8c029fb25e7"
      },
      "outputs": [
        {
          "name": "stdout",
          "output_type": "stream",
          "text": [
            "Epoch 1/20\n",
            "\u001b[1m131/131\u001b[0m \u001b[32m━━━━━━━━━━━━━━━━━━━━\u001b[0m\u001b[37m\u001b[0m \u001b[1m0s\u001b[0m 641ms/step - accuracy: 0.9239 - loss: 0.5702\n",
            "Epoch 1: val_accuracy did not improve from 0.95968\n",
            "\u001b[1m131/131\u001b[0m \u001b[32m━━━━━━━━━━━━━━━━━━━━\u001b[0m\u001b[37m\u001b[0m \u001b[1m96s\u001b[0m 679ms/step - accuracy: 0.9240 - loss: 0.5700 - val_accuracy: 0.9435 - val_loss: 0.5080 - learning_rate: 1.0000e-05\n",
            "Epoch 2/20\n",
            "\u001b[1m131/131\u001b[0m \u001b[32m━━━━━━━━━━━━━━━━━━━━\u001b[0m\u001b[37m\u001b[0m \u001b[1m0s\u001b[0m 626ms/step - accuracy: 0.9557 - loss: 0.5002\n",
            "Epoch 2: val_accuracy did not improve from 0.95968\n",
            "\u001b[1m131/131\u001b[0m \u001b[32m━━━━━━━━━━━━━━━━━━━━\u001b[0m\u001b[37m\u001b[0m \u001b[1m85s\u001b[0m 645ms/step - accuracy: 0.9557 - loss: 0.5002 - val_accuracy: 0.9274 - val_loss: 0.5643 - learning_rate: 1.0000e-05\n",
            "Epoch 3/20\n",
            "\u001b[1m131/131\u001b[0m \u001b[32m━━━━━━━━━━━━━━━━━━━━\u001b[0m\u001b[37m\u001b[0m \u001b[1m0s\u001b[0m 625ms/step - accuracy: 0.9603 - loss: 0.4855\n",
            "Epoch 3: val_accuracy did not improve from 0.95968\n",
            "\u001b[1m131/131\u001b[0m \u001b[32m━━━━━━━━━━━━━━━━━━━━\u001b[0m\u001b[37m\u001b[0m \u001b[1m84s\u001b[0m 644ms/step - accuracy: 0.9603 - loss: 0.4855 - val_accuracy: 0.7903 - val_loss: 0.8775 - learning_rate: 1.0000e-05\n",
            "Epoch 4/20\n",
            "\u001b[1m131/131\u001b[0m \u001b[32m━━━━━━━━━━━━━━━━━━━━\u001b[0m\u001b[37m\u001b[0m \u001b[1m0s\u001b[0m 629ms/step - accuracy: 0.9629 - loss: 0.4645\n",
            "Epoch 4: ReduceLROnPlateau reducing learning rate to 1.9999999494757505e-06.\n",
            "\n",
            "Epoch 4: val_accuracy did not improve from 0.95968\n",
            "\u001b[1m131/131\u001b[0m \u001b[32m━━━━━━━━━━━━━━━━━━━━\u001b[0m\u001b[37m\u001b[0m \u001b[1m143s\u001b[0m 652ms/step - accuracy: 0.9629 - loss: 0.4644 - val_accuracy: 0.9113 - val_loss: 0.5979 - learning_rate: 1.0000e-05\n",
            "Epoch 5/20\n",
            "\u001b[1m131/131\u001b[0m \u001b[32m━━━━━━━━━━━━━━━━━━━━\u001b[0m\u001b[37m\u001b[0m \u001b[1m0s\u001b[0m 632ms/step - accuracy: 0.9658 - loss: 0.4465\n",
            "Epoch 5: val_accuracy improved from 0.95968 to 0.97581, saving model to best_model.keras\n",
            "\u001b[1m131/131\u001b[0m \u001b[32m━━━━━━━━━━━━━━━━━━━━\u001b[0m\u001b[37m\u001b[0m \u001b[1m86s\u001b[0m 657ms/step - accuracy: 0.9658 - loss: 0.4465 - val_accuracy: 0.9758 - val_loss: 0.4635 - learning_rate: 2.0000e-06\n",
            "Epoch 6/20\n",
            "\u001b[1m131/131\u001b[0m \u001b[32m━━━━━━━━━━━━━━━━━━━━\u001b[0m\u001b[37m\u001b[0m \u001b[1m0s\u001b[0m 628ms/step - accuracy: 0.9732 - loss: 0.4384\n",
            "Epoch 6: val_accuracy did not improve from 0.97581\n",
            "\u001b[1m131/131\u001b[0m \u001b[32m━━━━━━━━━━━━━━━━━━━━\u001b[0m\u001b[37m\u001b[0m \u001b[1m141s\u001b[0m 647ms/step - accuracy: 0.9732 - loss: 0.4384 - val_accuracy: 0.9758 - val_loss: 0.4356 - learning_rate: 2.0000e-06\n",
            "Epoch 7/20\n",
            "\u001b[1m131/131\u001b[0m \u001b[32m━━━━━━━━━━━━━━━━━━━━\u001b[0m\u001b[37m\u001b[0m \u001b[1m0s\u001b[0m 622ms/step - accuracy: 0.9713 - loss: 0.4354\n",
            "Epoch 7: val_accuracy did not improve from 0.97581\n",
            "\u001b[1m131/131\u001b[0m \u001b[32m━━━━━━━━━━━━━━━━━━━━\u001b[0m\u001b[37m\u001b[0m \u001b[1m84s\u001b[0m 641ms/step - accuracy: 0.9713 - loss: 0.4354 - val_accuracy: 0.9758 - val_loss: 0.4364 - learning_rate: 2.0000e-06\n",
            "Epoch 8/20\n",
            "\u001b[1m131/131\u001b[0m \u001b[32m━━━━━━━━━━━━━━━━━━━━\u001b[0m\u001b[37m\u001b[0m \u001b[1m0s\u001b[0m 624ms/step - accuracy: 0.9710 - loss: 0.4364\n",
            "Epoch 8: val_accuracy did not improve from 0.97581\n",
            "\u001b[1m131/131\u001b[0m \u001b[32m━━━━━━━━━━━━━━━━━━━━\u001b[0m\u001b[37m\u001b[0m \u001b[1m84s\u001b[0m 643ms/step - accuracy: 0.9710 - loss: 0.4364 - val_accuracy: 0.9597 - val_loss: 0.4851 - learning_rate: 2.0000e-06\n",
            "Epoch 9/20\n",
            "\u001b[1m131/131\u001b[0m \u001b[32m━━━━━━━━━━━━━━━━━━━━\u001b[0m\u001b[37m\u001b[0m \u001b[1m0s\u001b[0m 630ms/step - accuracy: 0.9761 - loss: 0.4224\n",
            "Epoch 9: ReduceLROnPlateau reducing learning rate to 3.999999989900971e-07.\n",
            "\n",
            "Epoch 9: val_accuracy did not improve from 0.97581\n",
            "\u001b[1m131/131\u001b[0m \u001b[32m━━━━━━━━━━━━━━━━━━━━\u001b[0m\u001b[37m\u001b[0m \u001b[1m85s\u001b[0m 649ms/step - accuracy: 0.9761 - loss: 0.4225 - val_accuracy: 0.9516 - val_loss: 0.4673 - learning_rate: 2.0000e-06\n",
            "Epoch 10/20\n",
            "\u001b[1m131/131\u001b[0m \u001b[32m━━━━━━━━━━━━━━━━━━━━\u001b[0m\u001b[37m\u001b[0m \u001b[1m0s\u001b[0m 626ms/step - accuracy: 0.9763 - loss: 0.4273\n",
            "Epoch 10: val_accuracy did not improve from 0.97581\n",
            "\u001b[1m131/131\u001b[0m \u001b[32m━━━━━━━━━━━━━━━━━━━━\u001b[0m\u001b[37m\u001b[0m \u001b[1m85s\u001b[0m 644ms/step - accuracy: 0.9763 - loss: 0.4272 - val_accuracy: 0.9355 - val_loss: 0.4826 - learning_rate: 4.0000e-07\n",
            "Epoch 11/20\n",
            "\u001b[1m131/131\u001b[0m \u001b[32m━━━━━━━━━━━━━━━━━━━━\u001b[0m\u001b[37m\u001b[0m \u001b[1m0s\u001b[0m 623ms/step - accuracy: 0.9757 - loss: 0.4218\n",
            "Epoch 11: val_accuracy did not improve from 0.97581\n",
            "\u001b[1m131/131\u001b[0m \u001b[32m━━━━━━━━━━━━━━━━━━━━\u001b[0m\u001b[37m\u001b[0m \u001b[1m84s\u001b[0m 642ms/step - accuracy: 0.9757 - loss: 0.4218 - val_accuracy: 0.9758 - val_loss: 0.4556 - learning_rate: 4.0000e-07\n"
          ]
        }
      ],
      "source": [
        "history_finetune = model.fit(\n",
        "    train_generator,\n",
        "    validation_data=val_generator,\n",
        "    epochs=20,\n",
        "    callbacks=[early_stop, reduce_lr, checkpoint],\n",
        "    verbose=1\n",
        ")"
      ]
    },
    {
      "cell_type": "code",
      "execution_count": null,
      "metadata": {
        "colab": {
          "background_save": true
        },
        "id": "vBrw9WrAzgXk",
        "outputId": "6cfb4d82-e1fa-4bb3-d734-75136f6470a0"
      },
      "outputs": [
        {
          "name": "stdout",
          "output_type": "stream",
          "text": [
            "\u001b[1m20/20\u001b[0m \u001b[32m━━━━━━━━━━━━━━━━━━━━\u001b[0m\u001b[37m\u001b[0m \u001b[1m6s\u001b[0m 280ms/step - accuracy: 0.9035 - loss: 0.6036\n",
            "Test Loss: 0.5752466917037964\n",
            "Test Accuracy: 91.99 %\n"
          ]
        }
      ],
      "source": [
        "# ✅ Evaluate Model\n",
        "test_loss, test_accuracy = model.evaluate(test_generator)\n",
        "print(f\"Test Loss: {test_loss}\")\n",
        "print(f\"Test Accuracy: {test_accuracy * 100:.2f} %\")"
      ]
    },
    {
      "cell_type": "code",
      "execution_count": null,
      "metadata": {
        "colab": {
          "background_save": true
        },
        "id": "CCmRrRf6ur3e",
        "outputId": "694cd08a-f387-446c-c1db-0f7113b35672"
      },
      "outputs": [
        {
          "data": {
            "image/png": "[encoded data removed]",
            "text/plain": [
              "<Figure size 1200x500 with 2 Axes>"
            ]
          },
          "metadata": {},
          "output_type": "display_data"
        }
      ],
      "source": [
        "plt.figure(figsize=(12, 5))\n",
        "\n",
        "# Loss Plot\n",
        "plt.subplot(1, 2, 1)\n",
        "plt.plot(history.history['loss'], label='Train Loss')\n",
        "plt.plot(history.history['val_loss'], label='Validation Loss')\n",
        "plt.xlabel('Epochs')\n",
        "plt.ylabel('Loss')\n",
        "plt.legend()\n",
        "plt.title('Train vs Validation Loss')\n",
        "\n",
        "# Accuracy Plot\n",
        "plt.subplot(1, 2, 2)\n",
        "plt.plot(history.history['accuracy'], label='Train Accuracy')\n",
        "plt.plot(history.history['val_accuracy'], label='Validation Accuracy')\n",
        "plt.xlabel('Epochs')\n",
        "plt.ylabel('Accuracy')\n",
        "plt.legend()\n",
        "plt.title('Train vs Validation Accuracy')\n",
        "\n",
        "plt.show()"
      ]
    },
    {
      "cell_type": "markdown",
      "metadata": {
        "id": "TiNgrMOOnSSH"
      },
      "source": [
        "# Training vs Validation Performance\n",
        "\n",
        "* The left graph shows the loss for both training and validation over the epochs. We can see that both losses decrease as training progresses, which means the model is learning well. The validation loss follows a similar trend to the training loss, indicating that the model is not overfitting.\n",
        "\n",
        "* The right graph shows the accuracy for both training and validation. The accuracy increases over time, and the validation accuracy closely follows the training accuracy. This suggests that the model is generalizing well to new data."
      ]
    },
    {
      "cell_type": "code",
      "execution_count": null,
      "metadata": {
        "colab": {
          "background_save": true
        },
        "id": "AaQtNQutusHj",
        "outputId": "c149ddcc-2f69-480c-d2e3-63e9171c98d4"
      },
      "outputs": [
        {
          "name": "stdout",
          "output_type": "stream",
          "text": [
            "\u001b[1m20/20\u001b[0m \u001b[32m━━━━━━━━━━━━━━━━━━━━\u001b[0m\u001b[37m\u001b[0m \u001b[1m7s\u001b[0m 310ms/step\n",
            "              precision    recall  f1-score   support\n",
            "\n",
            "      Normal       0.92      0.86      0.89       234\n",
            "   Pneumonia       0.92      0.95      0.94       390\n",
            "\n",
            "    accuracy                           0.92       624\n",
            "   macro avg       0.92      0.91      0.91       624\n",
            "weighted avg       0.92      0.92      0.92       624\n",
            "\n"
          ]
        },
        {
          "data": {
            "image/png": "[encoded data removed]",
            "text/plain": [
              "<Figure size 640x480 with 2 Axes>"
            ]
          },
          "metadata": {},
          "output_type": "display_data"
        }
      ],
      "source": [
        "from sklearn.metrics import classification_report, confusion_matrix, ConfusionMatrixDisplay\n",
        "\n",
        "# Get true labels and predictions\n",
        "true_labels = test_generator.classes\n",
        "predictions = (model.predict(test_generator) > 0.5).astype(\"int32\")\n",
        "\n",
        "# Classification Report\n",
        "print(classification_report(true_labels, predictions, target_names=['Normal', 'Pneumonia']))\n",
        "\n",
        "# Confusion Matrix\n",
        "cm = confusion_matrix(true_labels, predictions)\n",
        "disp = ConfusionMatrixDisplay(confusion_matrix=cm, display_labels=['Normal', 'Pneumonia'])\n",
        "disp.plot(cmap='Blues')\n",
        "plt.show()"
      ]
    },
    {
      "cell_type": "markdown",
      "metadata": {
        "id": "6FHAvvINLoz8"
      },
      "source": [
        "Model Performance Analysis 🚀\n",
        "\n",
        "Great work! Our model has achieved an impressive 92% accuracy. But let’s take a closer look at its precision and recall to better understand its strengths and areas for improvement.\n",
        "\n",
        "Key Metrics\n",
        "* Recall (Sensitivity) for Pneumonia: 94%\n",
        "Our model correctly detects 94% of pneumonia cases, which is crucial in medical diagnosis. A high recall ensures fewer missed cases, reducing the risk of overlooking serious conditions.\n",
        "\n",
        "* Precision for Pneumonia: 93%\n",
        "Out of all the pneumonia predictions made by the model, 93% are correct. However, there’s still a 7% chance of false positives, where normal cases might be misclassified as pneumonia.\n",
        "\n",
        "Key Takeaways\n",
        "* A high recall helps in catching most pneumonia cases, making the model useful for initial screenings.\n",
        "* Good precision (93%) means fewer false alarms, but there's room for improvement.\n",
        "* The balance between precision and recall looks promising, but more validation is needed before real-world medical use.\n",
        "\n",
        "Next Steps & Future Improvements\n",
        "* Further fine-tuning to reduce false positives and enhance overall performance.\n",
        "* Improve dataset diversity by expanding the current dataset with more varied samples for better generalization.\n",
        "* Enhance model explainability and involve medical experts for validation before real-world deployment.\n",
        "\n",
        "That's it, folks! 🎉 I hope you found this analysis insightful."
      ]
    },
    {
      "cell_type": "code",
      "execution_count": null,
      "metadata": {
        "id": "3xX2ZYKCvkyl"
      },
      "outputs": [],
      "source": [
        "from tensorflow.keras.models import load_model\n",
        "model.save(\"my_model.keras\")   # Save Model\n",
        "\n",
        "# Load Model for Future Predictions\n",
        "loaded_model = load_model(\"my_model.keras\")\n"
      ]
    },
    {
      "cell_type": "code",
      "execution_count": null,
      "metadata": {
        "colab": {
          "background_save": true
        },
        "id": "HibecNX5vkl4"
      },
      "outputs": [],
      "source": [
        "from tensorflow.keras.preprocessing import image\n"
      ]
    },
    {
      "cell_type": "code",
      "execution_count": null,
      "metadata": {
        "id": "PpoHAvPfvkfe"
      },
      "outputs": [],
      "source": [
        "def predict_image(img_path, model):\n",
        "    img = image.load_img(img_path, target_size=(224, 224))\n",
        "    img_array = image.img_to_array(img)\n",
        "    img_array = np.expand_dims(img_array, axis=0) / 255.0  # Normalize\n",
        "\n",
        "    prediction = model.predict(img_array)\n",
        "    class_name = \"Category 1\" if prediction[0][0] > 0.5 else \"Category 0\"\n",
        "\n",
        "    plt.imshow(img)\n",
        "    plt.axis(\"off\")\n",
        "    plt.title(f\"Prediction: {class_name}\")\n",
        "    plt.show()\n",
        "\n",
        "# Example\n",
        "predict_image(\"/content/pneumonia.jpeg\", loaded_model)\n"
      ]
    },
    {
      "cell_type": "code",
      "execution_count": null,
      "metadata": {
        "id": "i7hrmnA3vkcH"
      },
      "outputs": [],
      "source": [
        "\n"
      ]
    },
    {
      "cell_type": "code",
      "execution_count": null,
      "metadata": {
        "id": "dQLj0ANUNYRt"
      },
      "outputs": [],
      "source": []
    }
  ],
  "metadata": {
    "accelerator": "GPU",
    "colab": {
      "gpuType": "T4",
      "provenance": []
    },
    "kernelspec": {
      "display_name": "Python 3",
      "name": "python3"
    },
    "language_info": {
      "name": "python"
    }
  },
  "nbformat": 4,
  "nbformat_minor": 0
}